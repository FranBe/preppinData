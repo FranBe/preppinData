{
 "cells": [
  {
   "cell_type": "markdown",
   "id": "c4b62507",
   "metadata": {},
   "source": [
    "# Preppindata - Week 3"
   ]
  },
  {
   "cell_type": "markdown",
   "id": "be865c92",
   "metadata": {},
   "source": [
    "---"
   ]
  },
  {
   "cell_type": "code",
   "execution_count": 1,
   "id": "4d109168",
   "metadata": {},
   "outputs": [],
   "source": [
    "import pandas as pd\n",
    "import numpy as np"
   ]
  },
  {
   "cell_type": "markdown",
   "id": "8e8a3a28",
   "metadata": {},
   "source": [
    "## *Requirements*"
   ]
  },
  {
   "cell_type": "markdown",
   "id": "26bab48b",
   "metadata": {},
   "source": [
    "### Input the data\n",
    "\n"
   ]
  },
  {
   "cell_type": "code",
   "execution_count": 2,
   "id": "a4ad39c8",
   "metadata": {},
   "outputs": [],
   "source": [
    "trans = pd.read_csv('data/Week1_input.csv')\n",
    "target = pd.read_csv('data/week3_Targets.csv')"
   ]
  },
  {
   "cell_type": "markdown",
   "id": "6e700007",
   "metadata": {},
   "source": [
    "#### A little inspection\n"
   ]
  },
  {
   "cell_type": "code",
   "execution_count": 3,
   "id": "be47d7b4",
   "metadata": {},
   "outputs": [
    {
     "data": {
      "text/html": [
       "<div>\n",
       "<style scoped>\n",
       "    .dataframe tbody tr th:only-of-type {\n",
       "        vertical-align: middle;\n",
       "    }\n",
       "\n",
       "    .dataframe tbody tr th {\n",
       "        vertical-align: top;\n",
       "    }\n",
       "\n",
       "    .dataframe thead th {\n",
       "        text-align: right;\n",
       "    }\n",
       "</style>\n",
       "<table border=\"1\" class=\"dataframe\">\n",
       "  <thead>\n",
       "    <tr style=\"text-align: right;\">\n",
       "      <th></th>\n",
       "      <th>Transaction Code</th>\n",
       "      <th>Value</th>\n",
       "      <th>Customer Code</th>\n",
       "      <th>Online or In-Person</th>\n",
       "      <th>Transaction Date</th>\n",
       "    </tr>\n",
       "  </thead>\n",
       "  <tbody>\n",
       "    <tr>\n",
       "      <th>0</th>\n",
       "      <td>DTB-716-679-576</td>\n",
       "      <td>1448</td>\n",
       "      <td>100001</td>\n",
       "      <td>2</td>\n",
       "      <td>20/03/2023 00:00:00</td>\n",
       "    </tr>\n",
       "    <tr>\n",
       "      <th>1</th>\n",
       "      <td>DS-795-814-303</td>\n",
       "      <td>7839</td>\n",
       "      <td>100001</td>\n",
       "      <td>2</td>\n",
       "      <td>15/11/2023 00:00:00</td>\n",
       "    </tr>\n",
       "    <tr>\n",
       "      <th>2</th>\n",
       "      <td>DSB-807-592-406</td>\n",
       "      <td>5520</td>\n",
       "      <td>100005</td>\n",
       "      <td>1</td>\n",
       "      <td>14/07/2023 00:00:00</td>\n",
       "    </tr>\n",
       "    <tr>\n",
       "      <th>3</th>\n",
       "      <td>DS-367-545-264</td>\n",
       "      <td>7957</td>\n",
       "      <td>100007</td>\n",
       "      <td>2</td>\n",
       "      <td>18/08/2023 00:00:00</td>\n",
       "    </tr>\n",
       "    <tr>\n",
       "      <th>4</th>\n",
       "      <td>DSB-474-374-857</td>\n",
       "      <td>5375</td>\n",
       "      <td>100000</td>\n",
       "      <td>2</td>\n",
       "      <td>26/08/2023 00:00:00</td>\n",
       "    </tr>\n",
       "  </tbody>\n",
       "</table>\n",
       "</div>"
      ],
      "text/plain": [
       "  Transaction Code  Value  Customer Code  Online or In-Person  \\\n",
       "0  DTB-716-679-576   1448         100001                    2   \n",
       "1   DS-795-814-303   7839         100001                    2   \n",
       "2  DSB-807-592-406   5520         100005                    1   \n",
       "3   DS-367-545-264   7957         100007                    2   \n",
       "4  DSB-474-374-857   5375         100000                    2   \n",
       "\n",
       "      Transaction Date  \n",
       "0  20/03/2023 00:00:00  \n",
       "1  15/11/2023 00:00:00  \n",
       "2  14/07/2023 00:00:00  \n",
       "3  18/08/2023 00:00:00  \n",
       "4  26/08/2023 00:00:00  "
      ]
     },
     "execution_count": 3,
     "metadata": {},
     "output_type": "execute_result"
    }
   ],
   "source": [
    "trans.head()"
   ]
  },
  {
   "cell_type": "code",
   "execution_count": 4,
   "id": "754dc29a",
   "metadata": {},
   "outputs": [
    {
     "name": "stdout",
     "output_type": "stream",
     "text": [
      "<class 'pandas.core.frame.DataFrame'>\n",
      "RangeIndex: 365 entries, 0 to 364\n",
      "Data columns (total 5 columns):\n",
      " #   Column               Non-Null Count  Dtype \n",
      "---  ------               --------------  ----- \n",
      " 0   Transaction Code     365 non-null    object\n",
      " 1   Value                365 non-null    int64 \n",
      " 2   Customer Code        365 non-null    int64 \n",
      " 3   Online or In-Person  365 non-null    int64 \n",
      " 4   Transaction Date     365 non-null    object\n",
      "dtypes: int64(3), object(2)\n",
      "memory usage: 14.4+ KB\n"
     ]
    }
   ],
   "source": [
    "trans.info()"
   ]
  },
  {
   "cell_type": "code",
   "execution_count": 5,
   "id": "894477f2",
   "metadata": {},
   "outputs": [
    {
     "data": {
      "text/html": [
       "<div>\n",
       "<style scoped>\n",
       "    .dataframe tbody tr th:only-of-type {\n",
       "        vertical-align: middle;\n",
       "    }\n",
       "\n",
       "    .dataframe tbody tr th {\n",
       "        vertical-align: top;\n",
       "    }\n",
       "\n",
       "    .dataframe thead th {\n",
       "        text-align: right;\n",
       "    }\n",
       "</style>\n",
       "<table border=\"1\" class=\"dataframe\">\n",
       "  <thead>\n",
       "    <tr style=\"text-align: right;\">\n",
       "      <th></th>\n",
       "      <th>Online or In-Person</th>\n",
       "      <th>Q1</th>\n",
       "      <th>Q2</th>\n",
       "      <th>Q3</th>\n",
       "      <th>Q4</th>\n",
       "    </tr>\n",
       "  </thead>\n",
       "  <tbody>\n",
       "    <tr>\n",
       "      <th>0</th>\n",
       "      <td>Online</td>\n",
       "      <td>72500</td>\n",
       "      <td>70000</td>\n",
       "      <td>60000</td>\n",
       "      <td>60000</td>\n",
       "    </tr>\n",
       "    <tr>\n",
       "      <th>1</th>\n",
       "      <td>In-Person</td>\n",
       "      <td>75000</td>\n",
       "      <td>70000</td>\n",
       "      <td>70000</td>\n",
       "      <td>60000</td>\n",
       "    </tr>\n",
       "  </tbody>\n",
       "</table>\n",
       "</div>"
      ],
      "text/plain": [
       "  Online or In-Person     Q1     Q2     Q3     Q4\n",
       "0              Online  72500  70000  60000  60000\n",
       "1           In-Person  75000  70000  70000  60000"
      ]
     },
     "execution_count": 5,
     "metadata": {},
     "output_type": "execute_result"
    }
   ],
   "source": [
    "target.head()"
   ]
  },
  {
   "cell_type": "code",
   "execution_count": 6,
   "id": "7a9697a7",
   "metadata": {},
   "outputs": [
    {
     "name": "stdout",
     "output_type": "stream",
     "text": [
      "<class 'pandas.core.frame.DataFrame'>\n",
      "RangeIndex: 2 entries, 0 to 1\n",
      "Data columns (total 5 columns):\n",
      " #   Column               Non-Null Count  Dtype \n",
      "---  ------               --------------  ----- \n",
      " 0   Online or In-Person  2 non-null      object\n",
      " 1   Q1                   2 non-null      int64 \n",
      " 2   Q2                   2 non-null      int64 \n",
      " 3   Q3                   2 non-null      int64 \n",
      " 4   Q4                   2 non-null      int64 \n",
      "dtypes: int64(4), object(1)\n",
      "memory usage: 208.0+ bytes\n"
     ]
    }
   ],
   "source": [
    "target.info()"
   ]
  },
  {
   "cell_type": "markdown",
   "id": "4299b954",
   "metadata": {},
   "source": [
    "<br>"
   ]
  },
  {
   "cell_type": "markdown",
   "id": "d7347b3d",
   "metadata": {},
   "source": [
    "### For the transactions file:"
   ]
  },
  {
   "cell_type": "markdown",
   "id": "0425ae6a",
   "metadata": {},
   "source": [
    "#### - Filter the transactions to just look at DSB. These will be transactions that contain DSB in the Transaction Code field."
   ]
  },
  {
   "cell_type": "code",
   "execution_count": 8,
   "id": "19c3652a",
   "metadata": {},
   "outputs": [],
   "source": [
    "# Using a copy from the original dataset, to work on a new one\n",
    "dsb_data = trans.loc[trans['Transaction Code'].str.contains('DSB')].copy()"
   ]
  },
  {
   "cell_type": "code",
   "execution_count": 9,
   "id": "f5831837",
   "metadata": {},
   "outputs": [
    {
     "data": {
      "text/html": [
       "<div>\n",
       "<style scoped>\n",
       "    .dataframe tbody tr th:only-of-type {\n",
       "        vertical-align: middle;\n",
       "    }\n",
       "\n",
       "    .dataframe tbody tr th {\n",
       "        vertical-align: top;\n",
       "    }\n",
       "\n",
       "    .dataframe thead th {\n",
       "        text-align: right;\n",
       "    }\n",
       "</style>\n",
       "<table border=\"1\" class=\"dataframe\">\n",
       "  <thead>\n",
       "    <tr style=\"text-align: right;\">\n",
       "      <th></th>\n",
       "      <th>Transaction Code</th>\n",
       "      <th>Value</th>\n",
       "      <th>Customer Code</th>\n",
       "      <th>Online or In-Person</th>\n",
       "      <th>Transaction Date</th>\n",
       "    </tr>\n",
       "  </thead>\n",
       "  <tbody>\n",
       "    <tr>\n",
       "      <th>2</th>\n",
       "      <td>DSB-807-592-406</td>\n",
       "      <td>5520</td>\n",
       "      <td>100005</td>\n",
       "      <td>1</td>\n",
       "      <td>14/07/2023 00:00:00</td>\n",
       "    </tr>\n",
       "    <tr>\n",
       "      <th>4</th>\n",
       "      <td>DSB-474-374-857</td>\n",
       "      <td>5375</td>\n",
       "      <td>100000</td>\n",
       "      <td>2</td>\n",
       "      <td>26/08/2023 00:00:00</td>\n",
       "    </tr>\n",
       "    <tr>\n",
       "      <th>5</th>\n",
       "      <td>DSB-448-546-348</td>\n",
       "      <td>4525</td>\n",
       "      <td>100009</td>\n",
       "      <td>1</td>\n",
       "      <td>27/05/2023 00:00:00</td>\n",
       "    </tr>\n",
       "    <tr>\n",
       "      <th>11</th>\n",
       "      <td>DSB-422-218-322</td>\n",
       "      <td>118</td>\n",
       "      <td>100010</td>\n",
       "      <td>1</td>\n",
       "      <td>12/05/2023 00:00:00</td>\n",
       "    </tr>\n",
       "    <tr>\n",
       "      <th>12</th>\n",
       "      <td>DSB-669-227-170</td>\n",
       "      <td>830</td>\n",
       "      <td>100001</td>\n",
       "      <td>1</td>\n",
       "      <td>15/04/2023 00:00:00</td>\n",
       "    </tr>\n",
       "  </tbody>\n",
       "</table>\n",
       "</div>"
      ],
      "text/plain": [
       "   Transaction Code  Value  Customer Code  Online or In-Person  \\\n",
       "2   DSB-807-592-406   5520         100005                    1   \n",
       "4   DSB-474-374-857   5375         100000                    2   \n",
       "5   DSB-448-546-348   4525         100009                    1   \n",
       "11  DSB-422-218-322    118         100010                    1   \n",
       "12  DSB-669-227-170    830         100001                    1   \n",
       "\n",
       "       Transaction Date  \n",
       "2   14/07/2023 00:00:00  \n",
       "4   26/08/2023 00:00:00  \n",
       "5   27/05/2023 00:00:00  \n",
       "11  12/05/2023 00:00:00  \n",
       "12  15/04/2023 00:00:00  "
      ]
     },
     "execution_count": 9,
     "metadata": {},
     "output_type": "execute_result"
    }
   ],
   "source": [
    "# inspect\n",
    "dsb_data.head()"
   ]
  },
  {
   "cell_type": "markdown",
   "id": "51e5d49e",
   "metadata": {},
   "source": [
    "#### - Rename the values in the Online or In-person field, Online of the 1 values and In-Person for the 2 values"
   ]
  },
  {
   "cell_type": "code",
   "execution_count": 10,
   "id": "4eba38e3",
   "metadata": {},
   "outputs": [],
   "source": [
    "dsb_data['Online or In-Person'] = np.where(dsb_data['Online or In-Person'] == 1, 'Online', 'In-Person')"
   ]
  },
  {
   "cell_type": "code",
   "execution_count": 11,
   "id": "ebe22a18",
   "metadata": {},
   "outputs": [
    {
     "data": {
      "text/html": [
       "<div>\n",
       "<style scoped>\n",
       "    .dataframe tbody tr th:only-of-type {\n",
       "        vertical-align: middle;\n",
       "    }\n",
       "\n",
       "    .dataframe tbody tr th {\n",
       "        vertical-align: top;\n",
       "    }\n",
       "\n",
       "    .dataframe thead th {\n",
       "        text-align: right;\n",
       "    }\n",
       "</style>\n",
       "<table border=\"1\" class=\"dataframe\">\n",
       "  <thead>\n",
       "    <tr style=\"text-align: right;\">\n",
       "      <th></th>\n",
       "      <th>Transaction Code</th>\n",
       "      <th>Value</th>\n",
       "      <th>Customer Code</th>\n",
       "      <th>Online or In-Person</th>\n",
       "      <th>Transaction Date</th>\n",
       "    </tr>\n",
       "  </thead>\n",
       "  <tbody>\n",
       "    <tr>\n",
       "      <th>2</th>\n",
       "      <td>DSB-807-592-406</td>\n",
       "      <td>5520</td>\n",
       "      <td>100005</td>\n",
       "      <td>Online</td>\n",
       "      <td>14/07/2023 00:00:00</td>\n",
       "    </tr>\n",
       "    <tr>\n",
       "      <th>4</th>\n",
       "      <td>DSB-474-374-857</td>\n",
       "      <td>5375</td>\n",
       "      <td>100000</td>\n",
       "      <td>In-Person</td>\n",
       "      <td>26/08/2023 00:00:00</td>\n",
       "    </tr>\n",
       "    <tr>\n",
       "      <th>5</th>\n",
       "      <td>DSB-448-546-348</td>\n",
       "      <td>4525</td>\n",
       "      <td>100009</td>\n",
       "      <td>Online</td>\n",
       "      <td>27/05/2023 00:00:00</td>\n",
       "    </tr>\n",
       "    <tr>\n",
       "      <th>11</th>\n",
       "      <td>DSB-422-218-322</td>\n",
       "      <td>118</td>\n",
       "      <td>100010</td>\n",
       "      <td>Online</td>\n",
       "      <td>12/05/2023 00:00:00</td>\n",
       "    </tr>\n",
       "    <tr>\n",
       "      <th>12</th>\n",
       "      <td>DSB-669-227-170</td>\n",
       "      <td>830</td>\n",
       "      <td>100001</td>\n",
       "      <td>Online</td>\n",
       "      <td>15/04/2023 00:00:00</td>\n",
       "    </tr>\n",
       "  </tbody>\n",
       "</table>\n",
       "</div>"
      ],
      "text/plain": [
       "   Transaction Code  Value  Customer Code Online or In-Person  \\\n",
       "2   DSB-807-592-406   5520         100005              Online   \n",
       "4   DSB-474-374-857   5375         100000           In-Person   \n",
       "5   DSB-448-546-348   4525         100009              Online   \n",
       "11  DSB-422-218-322    118         100010              Online   \n",
       "12  DSB-669-227-170    830         100001              Online   \n",
       "\n",
       "       Transaction Date  \n",
       "2   14/07/2023 00:00:00  \n",
       "4   26/08/2023 00:00:00  \n",
       "5   27/05/2023 00:00:00  \n",
       "11  12/05/2023 00:00:00  \n",
       "12  15/04/2023 00:00:00  "
      ]
     },
     "execution_count": 11,
     "metadata": {},
     "output_type": "execute_result"
    }
   ],
   "source": [
    "# Inspecting..\n",
    "dsb_data.head()"
   ]
  },
  {
   "cell_type": "markdown",
   "id": "ffb3c8f1",
   "metadata": {},
   "source": [
    "#### - Change the date to be the quarter"
   ]
  },
  {
   "cell_type": "code",
   "execution_count": 12,
   "id": "999476a5",
   "metadata": {},
   "outputs": [],
   "source": [
    "# To ensure getting right quarters, is convennient to format date previously\n",
    "dsb_data['Transaction Date'] = pd.to_datetime(dsb_data['Transaction Date'], format='%d/%m/%Y %H:%M:%S')"
   ]
  },
  {
   "cell_type": "code",
   "execution_count": 13,
   "id": "bbb58a73",
   "metadata": {},
   "outputs": [],
   "source": [
    "dsb_data['Quarter'] = dsb_data['Transaction Date'].dt.quarter"
   ]
  },
  {
   "cell_type": "markdown",
   "id": "bdd33c60",
   "metadata": {},
   "source": [
    "#### - Sum the transaction values for each quarter and for each Type of Transaction (Online or In-Person)\n",
    "\n"
   ]
  },
  {
   "cell_type": "code",
   "execution_count": 16,
   "id": "8b3bcf50",
   "metadata": {},
   "outputs": [],
   "source": [
    "# Getting the Value per Quarter and Online...\n",
    "# Dropping unused columns in the process...\n",
    "dsb_data = dsb_data.groupby(['Quarter', 'Online or In-Person']).agg({'Value': 'sum'}).reset_index()"
   ]
  },
  {
   "cell_type": "markdown",
   "id": "0c93e965",
   "metadata": {},
   "source": [
    "<br>"
   ]
  },
  {
   "cell_type": "markdown",
   "id": "8ffce606",
   "metadata": {},
   "source": [
    "### For the targets file:"
   ]
  },
  {
   "cell_type": "markdown",
   "id": "9b23f45e",
   "metadata": {},
   "source": [
    "#### - Pivot the quarterly targets so we have a row for each Type of Transaction and each Quarter "
   ]
  },
  {
   "cell_type": "code",
   "execution_count": 18,
   "id": "9b0e489d",
   "metadata": {},
   "outputs": [],
   "source": [
    "target_melt = target.melt('Online or In-Person').rename(columns={'variable':'Quarter'}).copy()"
   ]
  },
  {
   "cell_type": "markdown",
   "id": "db24a967",
   "metadata": {},
   "source": [
    "#### - Rename the fields"
   ]
  },
  {
   "cell_type": "code",
   "execution_count": 19,
   "id": "58b88c99",
   "metadata": {},
   "outputs": [],
   "source": [
    "target_melt = target_melt.rename(columns={'value':'Quarterly Targets'})"
   ]
  },
  {
   "cell_type": "markdown",
   "id": "70eb1032",
   "metadata": {},
   "source": [
    "#### - Remove the 'Q' from the quarter field and make the data type numeric "
   ]
  },
  {
   "cell_type": "code",
   "execution_count": 20,
   "id": "4b9ee820",
   "metadata": {},
   "outputs": [],
   "source": [
    "target_melt['Quarter'] = target_melt['Quarter'].str[1]"
   ]
  },
  {
   "cell_type": "code",
   "execution_count": 21,
   "id": "bfd23d53",
   "metadata": {},
   "outputs": [],
   "source": [
    "# After comparing data types in both dataframes (target_melt and dsb_data), is needed to do a change:\n",
    "\n",
    "target_melt['Quarter'] = target_melt['Quarter'].astype('int64')"
   ]
  },
  {
   "cell_type": "code",
   "execution_count": 22,
   "id": "ae67ae1e",
   "metadata": {},
   "outputs": [
    {
     "data": {
      "text/html": [
       "<div>\n",
       "<style scoped>\n",
       "    .dataframe tbody tr th:only-of-type {\n",
       "        vertical-align: middle;\n",
       "    }\n",
       "\n",
       "    .dataframe tbody tr th {\n",
       "        vertical-align: top;\n",
       "    }\n",
       "\n",
       "    .dataframe thead th {\n",
       "        text-align: right;\n",
       "    }\n",
       "</style>\n",
       "<table border=\"1\" class=\"dataframe\">\n",
       "  <thead>\n",
       "    <tr style=\"text-align: right;\">\n",
       "      <th></th>\n",
       "      <th>Online or In-Person</th>\n",
       "      <th>Quarter</th>\n",
       "      <th>Quarterly Targets</th>\n",
       "    </tr>\n",
       "  </thead>\n",
       "  <tbody>\n",
       "    <tr>\n",
       "      <th>0</th>\n",
       "      <td>Online</td>\n",
       "      <td>1</td>\n",
       "      <td>72500</td>\n",
       "    </tr>\n",
       "    <tr>\n",
       "      <th>1</th>\n",
       "      <td>In-Person</td>\n",
       "      <td>1</td>\n",
       "      <td>75000</td>\n",
       "    </tr>\n",
       "    <tr>\n",
       "      <th>2</th>\n",
       "      <td>Online</td>\n",
       "      <td>2</td>\n",
       "      <td>70000</td>\n",
       "    </tr>\n",
       "    <tr>\n",
       "      <th>3</th>\n",
       "      <td>In-Person</td>\n",
       "      <td>2</td>\n",
       "      <td>70000</td>\n",
       "    </tr>\n",
       "    <tr>\n",
       "      <th>4</th>\n",
       "      <td>Online</td>\n",
       "      <td>3</td>\n",
       "      <td>60000</td>\n",
       "    </tr>\n",
       "    <tr>\n",
       "      <th>5</th>\n",
       "      <td>In-Person</td>\n",
       "      <td>3</td>\n",
       "      <td>70000</td>\n",
       "    </tr>\n",
       "    <tr>\n",
       "      <th>6</th>\n",
       "      <td>Online</td>\n",
       "      <td>4</td>\n",
       "      <td>60000</td>\n",
       "    </tr>\n",
       "    <tr>\n",
       "      <th>7</th>\n",
       "      <td>In-Person</td>\n",
       "      <td>4</td>\n",
       "      <td>60000</td>\n",
       "    </tr>\n",
       "  </tbody>\n",
       "</table>\n",
       "</div>"
      ],
      "text/plain": [
       "  Online or In-Person  Quarter  Quarterly Targets\n",
       "0              Online        1              72500\n",
       "1           In-Person        1              75000\n",
       "2              Online        2              70000\n",
       "3           In-Person        2              70000\n",
       "4              Online        3              60000\n",
       "5           In-Person        3              70000\n",
       "6              Online        4              60000\n",
       "7           In-Person        4              60000"
      ]
     },
     "execution_count": 22,
     "metadata": {},
     "output_type": "execute_result"
    }
   ],
   "source": [
    "target_melt"
   ]
  },
  {
   "cell_type": "code",
   "execution_count": 23,
   "id": "50cf71d9",
   "metadata": {},
   "outputs": [
    {
     "data": {
      "text/html": [
       "<div>\n",
       "<style scoped>\n",
       "    .dataframe tbody tr th:only-of-type {\n",
       "        vertical-align: middle;\n",
       "    }\n",
       "\n",
       "    .dataframe tbody tr th {\n",
       "        vertical-align: top;\n",
       "    }\n",
       "\n",
       "    .dataframe thead th {\n",
       "        text-align: right;\n",
       "    }\n",
       "</style>\n",
       "<table border=\"1\" class=\"dataframe\">\n",
       "  <thead>\n",
       "    <tr style=\"text-align: right;\">\n",
       "      <th></th>\n",
       "      <th>Quarter</th>\n",
       "      <th>Online or In-Person</th>\n",
       "      <th>Value</th>\n",
       "    </tr>\n",
       "  </thead>\n",
       "  <tbody>\n",
       "    <tr>\n",
       "      <th>0</th>\n",
       "      <td>1</td>\n",
       "      <td>In-Person</td>\n",
       "      <td>77576</td>\n",
       "    </tr>\n",
       "    <tr>\n",
       "      <th>1</th>\n",
       "      <td>1</td>\n",
       "      <td>Online</td>\n",
       "      <td>74562</td>\n",
       "    </tr>\n",
       "    <tr>\n",
       "      <th>2</th>\n",
       "      <td>2</td>\n",
       "      <td>In-Person</td>\n",
       "      <td>70634</td>\n",
       "    </tr>\n",
       "    <tr>\n",
       "      <th>3</th>\n",
       "      <td>2</td>\n",
       "      <td>Online</td>\n",
       "      <td>69325</td>\n",
       "    </tr>\n",
       "    <tr>\n",
       "      <th>4</th>\n",
       "      <td>3</td>\n",
       "      <td>In-Person</td>\n",
       "      <td>74189</td>\n",
       "    </tr>\n",
       "  </tbody>\n",
       "</table>\n",
       "</div>"
      ],
      "text/plain": [
       "   Quarter Online or In-Person  Value\n",
       "0        1           In-Person  77576\n",
       "1        1              Online  74562\n",
       "2        2           In-Person  70634\n",
       "3        2              Online  69325\n",
       "4        3           In-Person  74189"
      ]
     },
     "execution_count": 23,
     "metadata": {},
     "output_type": "execute_result"
    }
   ],
   "source": [
    "dsb_data.head()"
   ]
  },
  {
   "cell_type": "markdown",
   "id": "c9e76a16",
   "metadata": {},
   "source": [
    "### Join the two datasets together (You may need more than one join clause!)\n"
   ]
  },
  {
   "cell_type": "code",
   "execution_count": 26,
   "id": "2d9fb835",
   "metadata": {},
   "outputs": [],
   "source": [
    "output = dsb_data.merge(target_melt,on=['Online or In-Person','Quarter'])"
   ]
  },
  {
   "cell_type": "code",
   "execution_count": 27,
   "id": "cea60fd6",
   "metadata": {},
   "outputs": [
    {
     "data": {
      "text/html": [
       "<div>\n",
       "<style scoped>\n",
       "    .dataframe tbody tr th:only-of-type {\n",
       "        vertical-align: middle;\n",
       "    }\n",
       "\n",
       "    .dataframe tbody tr th {\n",
       "        vertical-align: top;\n",
       "    }\n",
       "\n",
       "    .dataframe thead th {\n",
       "        text-align: right;\n",
       "    }\n",
       "</style>\n",
       "<table border=\"1\" class=\"dataframe\">\n",
       "  <thead>\n",
       "    <tr style=\"text-align: right;\">\n",
       "      <th></th>\n",
       "      <th>Quarter</th>\n",
       "      <th>Online or In-Person</th>\n",
       "      <th>Value</th>\n",
       "      <th>Quarterly Targets</th>\n",
       "    </tr>\n",
       "  </thead>\n",
       "  <tbody>\n",
       "    <tr>\n",
       "      <th>0</th>\n",
       "      <td>1</td>\n",
       "      <td>In-Person</td>\n",
       "      <td>77576</td>\n",
       "      <td>75000</td>\n",
       "    </tr>\n",
       "    <tr>\n",
       "      <th>1</th>\n",
       "      <td>1</td>\n",
       "      <td>Online</td>\n",
       "      <td>74562</td>\n",
       "      <td>72500</td>\n",
       "    </tr>\n",
       "    <tr>\n",
       "      <th>2</th>\n",
       "      <td>2</td>\n",
       "      <td>In-Person</td>\n",
       "      <td>70634</td>\n",
       "      <td>70000</td>\n",
       "    </tr>\n",
       "    <tr>\n",
       "      <th>3</th>\n",
       "      <td>2</td>\n",
       "      <td>Online</td>\n",
       "      <td>69325</td>\n",
       "      <td>70000</td>\n",
       "    </tr>\n",
       "    <tr>\n",
       "      <th>4</th>\n",
       "      <td>3</td>\n",
       "      <td>In-Person</td>\n",
       "      <td>74189</td>\n",
       "      <td>70000</td>\n",
       "    </tr>\n",
       "    <tr>\n",
       "      <th>5</th>\n",
       "      <td>3</td>\n",
       "      <td>Online</td>\n",
       "      <td>59072</td>\n",
       "      <td>60000</td>\n",
       "    </tr>\n",
       "    <tr>\n",
       "      <th>6</th>\n",
       "      <td>4</td>\n",
       "      <td>In-Person</td>\n",
       "      <td>43223</td>\n",
       "      <td>60000</td>\n",
       "    </tr>\n",
       "    <tr>\n",
       "      <th>7</th>\n",
       "      <td>4</td>\n",
       "      <td>Online</td>\n",
       "      <td>61908</td>\n",
       "      <td>60000</td>\n",
       "    </tr>\n",
       "  </tbody>\n",
       "</table>\n",
       "</div>"
      ],
      "text/plain": [
       "   Quarter Online or In-Person  Value  Quarterly Targets\n",
       "0        1           In-Person  77576              75000\n",
       "1        1              Online  74562              72500\n",
       "2        2           In-Person  70634              70000\n",
       "3        2              Online  69325              70000\n",
       "4        3           In-Person  74189              70000\n",
       "5        3              Online  59072              60000\n",
       "6        4           In-Person  43223              60000\n",
       "7        4              Online  61908              60000"
      ]
     },
     "execution_count": 27,
     "metadata": {},
     "output_type": "execute_result"
    }
   ],
   "source": [
    "output"
   ]
  },
  {
   "cell_type": "markdown",
   "id": "0cd54ae8",
   "metadata": {},
   "source": [
    "### Calculate the Variance to Target for each row (help)\n"
   ]
  },
  {
   "cell_type": "code",
   "execution_count": 29,
   "id": "a685da6d",
   "metadata": {},
   "outputs": [
    {
     "data": {
      "text/html": [
       "<div>\n",
       "<style scoped>\n",
       "    .dataframe tbody tr th:only-of-type {\n",
       "        vertical-align: middle;\n",
       "    }\n",
       "\n",
       "    .dataframe tbody tr th {\n",
       "        vertical-align: top;\n",
       "    }\n",
       "\n",
       "    .dataframe thead th {\n",
       "        text-align: right;\n",
       "    }\n",
       "</style>\n",
       "<table border=\"1\" class=\"dataframe\">\n",
       "  <thead>\n",
       "    <tr style=\"text-align: right;\">\n",
       "      <th></th>\n",
       "      <th>Quarter</th>\n",
       "      <th>Online or In-Person</th>\n",
       "      <th>Value</th>\n",
       "      <th>Quarterly Targets</th>\n",
       "      <th>Variance to Targets</th>\n",
       "    </tr>\n",
       "  </thead>\n",
       "  <tbody>\n",
       "    <tr>\n",
       "      <th>0</th>\n",
       "      <td>1</td>\n",
       "      <td>In-Person</td>\n",
       "      <td>77576</td>\n",
       "      <td>75000</td>\n",
       "      <td>2576</td>\n",
       "    </tr>\n",
       "    <tr>\n",
       "      <th>1</th>\n",
       "      <td>1</td>\n",
       "      <td>Online</td>\n",
       "      <td>74562</td>\n",
       "      <td>72500</td>\n",
       "      <td>2062</td>\n",
       "    </tr>\n",
       "    <tr>\n",
       "      <th>2</th>\n",
       "      <td>2</td>\n",
       "      <td>In-Person</td>\n",
       "      <td>70634</td>\n",
       "      <td>70000</td>\n",
       "      <td>634</td>\n",
       "    </tr>\n",
       "    <tr>\n",
       "      <th>3</th>\n",
       "      <td>2</td>\n",
       "      <td>Online</td>\n",
       "      <td>69325</td>\n",
       "      <td>70000</td>\n",
       "      <td>-675</td>\n",
       "    </tr>\n",
       "    <tr>\n",
       "      <th>4</th>\n",
       "      <td>3</td>\n",
       "      <td>In-Person</td>\n",
       "      <td>74189</td>\n",
       "      <td>70000</td>\n",
       "      <td>4189</td>\n",
       "    </tr>\n",
       "    <tr>\n",
       "      <th>5</th>\n",
       "      <td>3</td>\n",
       "      <td>Online</td>\n",
       "      <td>59072</td>\n",
       "      <td>60000</td>\n",
       "      <td>-928</td>\n",
       "    </tr>\n",
       "    <tr>\n",
       "      <th>6</th>\n",
       "      <td>4</td>\n",
       "      <td>In-Person</td>\n",
       "      <td>43223</td>\n",
       "      <td>60000</td>\n",
       "      <td>-16777</td>\n",
       "    </tr>\n",
       "    <tr>\n",
       "      <th>7</th>\n",
       "      <td>4</td>\n",
       "      <td>Online</td>\n",
       "      <td>61908</td>\n",
       "      <td>60000</td>\n",
       "      <td>1908</td>\n",
       "    </tr>\n",
       "  </tbody>\n",
       "</table>\n",
       "</div>"
      ],
      "text/plain": [
       "   Quarter Online or In-Person  Value  Quarterly Targets  Variance to Targets\n",
       "0        1           In-Person  77576              75000                 2576\n",
       "1        1              Online  74562              72500                 2062\n",
       "2        2           In-Person  70634              70000                  634\n",
       "3        2              Online  69325              70000                 -675\n",
       "4        3           In-Person  74189              70000                 4189\n",
       "5        3              Online  59072              60000                 -928\n",
       "6        4           In-Person  43223              60000               -16777\n",
       "7        4              Online  61908              60000                 1908"
      ]
     },
     "execution_count": 29,
     "metadata": {},
     "output_type": "execute_result"
    }
   ],
   "source": [
    "output['Variance to Targets'] = output['Value'] - output['Quarterly Targets']\n",
    "output"
   ]
  },
  {
   "cell_type": "markdown",
   "id": "bd63fe3d",
   "metadata": {},
   "source": [
    "### Output the data"
   ]
  },
  {
   "cell_type": "code",
   "execution_count": null,
   "id": "9931d6ff",
   "metadata": {},
   "outputs": [],
   "source": []
  }
 ],
 "metadata": {
  "kernelspec": {
   "display_name": "Python 3 (ipykernel)",
   "language": "python",
   "name": "python3"
  },
  "language_info": {
   "codemirror_mode": {
    "name": "ipython",
    "version": 3
   },
   "file_extension": ".py",
   "mimetype": "text/x-python",
   "name": "python",
   "nbconvert_exporter": "python",
   "pygments_lexer": "ipython3",
   "version": "3.10.2"
  }
 },
 "nbformat": 4,
 "nbformat_minor": 5
}
