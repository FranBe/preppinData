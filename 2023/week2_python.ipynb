{
 "cells": [
  {
   "cell_type": "markdown",
   "id": "58e56d17",
   "metadata": {},
   "source": [
    "# Week 2 - International Bank Account Numbers\n"
   ]
  },
  {
   "cell_type": "code",
   "execution_count": 1,
   "id": "0e4d9009",
   "metadata": {},
   "outputs": [],
   "source": [
    "import pandas as pd\n",
    "import numpy as np"
   ]
  },
  {
   "cell_type": "markdown",
   "id": "3e116ef2",
   "metadata": {},
   "source": [
    "## Requirements"
   ]
  },
  {
   "cell_type": "markdown",
   "id": "a8d1fa3c",
   "metadata": {},
   "source": [
    "### 1) Input the data\n"
   ]
  },
  {
   "cell_type": "code",
   "execution_count": 33,
   "id": "6506de93",
   "metadata": {},
   "outputs": [],
   "source": [
    "lookup = pd.read_csv('data/Week2_Swift_Codes.csv')\n",
    "trans = pd.read_csv('data/Week2_Transactions.csv')"
   ]
  },
  {
   "cell_type": "markdown",
   "id": "ec81b99f",
   "metadata": {},
   "source": [
    "#### Inspecting data"
   ]
  },
  {
   "cell_type": "code",
   "execution_count": 34,
   "id": "d76df779",
   "metadata": {},
   "outputs": [
    {
     "data": {
      "text/html": [
       "<div>\n",
       "<style scoped>\n",
       "    .dataframe tbody tr th:only-of-type {\n",
       "        vertical-align: middle;\n",
       "    }\n",
       "\n",
       "    .dataframe tbody tr th {\n",
       "        vertical-align: top;\n",
       "    }\n",
       "\n",
       "    .dataframe thead th {\n",
       "        text-align: right;\n",
       "    }\n",
       "</style>\n",
       "<table border=\"1\" class=\"dataframe\">\n",
       "  <thead>\n",
       "    <tr style=\"text-align: right;\">\n",
       "      <th></th>\n",
       "      <th>Bank</th>\n",
       "      <th>SWIFT code</th>\n",
       "      <th>Check Digits</th>\n",
       "    </tr>\n",
       "  </thead>\n",
       "  <tbody>\n",
       "    <tr>\n",
       "      <th>0</th>\n",
       "      <td>Lloyds Bank</td>\n",
       "      <td>LOYD</td>\n",
       "      <td>C1</td>\n",
       "    </tr>\n",
       "    <tr>\n",
       "      <th>1</th>\n",
       "      <td>Barclays Bank</td>\n",
       "      <td>BARC</td>\n",
       "      <td>22</td>\n",
       "    </tr>\n",
       "    <tr>\n",
       "      <th>2</th>\n",
       "      <td>Halifax</td>\n",
       "      <td>HLFX</td>\n",
       "      <td>22</td>\n",
       "    </tr>\n",
       "    <tr>\n",
       "      <th>3</th>\n",
       "      <td>HSBC</td>\n",
       "      <td>HBUK</td>\n",
       "      <td>4B</td>\n",
       "    </tr>\n",
       "    <tr>\n",
       "      <th>4</th>\n",
       "      <td>Natwest</td>\n",
       "      <td>NWBK</td>\n",
       "      <td>2L</td>\n",
       "    </tr>\n",
       "  </tbody>\n",
       "</table>\n",
       "</div>"
      ],
      "text/plain": [
       "            Bank SWIFT code Check Digits\n",
       "0    Lloyds Bank       LOYD           C1\n",
       "1  Barclays Bank       BARC           22\n",
       "2        Halifax       HLFX           22\n",
       "3           HSBC       HBUK           4B\n",
       "4        Natwest       NWBK           2L"
      ]
     },
     "execution_count": 34,
     "metadata": {},
     "output_type": "execute_result"
    }
   ],
   "source": [
    "lookup.head()"
   ]
  },
  {
   "cell_type": "code",
   "execution_count": 35,
   "id": "90f22857",
   "metadata": {},
   "outputs": [
    {
     "data": {
      "text/html": [
       "<div>\n",
       "<style scoped>\n",
       "    .dataframe tbody tr th:only-of-type {\n",
       "        vertical-align: middle;\n",
       "    }\n",
       "\n",
       "    .dataframe tbody tr th {\n",
       "        vertical-align: top;\n",
       "    }\n",
       "\n",
       "    .dataframe thead th {\n",
       "        text-align: right;\n",
       "    }\n",
       "</style>\n",
       "<table border=\"1\" class=\"dataframe\">\n",
       "  <thead>\n",
       "    <tr style=\"text-align: right;\">\n",
       "      <th></th>\n",
       "      <th>Transaction ID</th>\n",
       "      <th>Account Number</th>\n",
       "      <th>Sort Code</th>\n",
       "      <th>Bank</th>\n",
       "    </tr>\n",
       "  </thead>\n",
       "  <tbody>\n",
       "    <tr>\n",
       "      <th>0</th>\n",
       "      <td>3888</td>\n",
       "      <td>62230725</td>\n",
       "      <td>95-98-82</td>\n",
       "      <td>Data Source Bank</td>\n",
       "    </tr>\n",
       "    <tr>\n",
       "      <th>1</th>\n",
       "      <td>4746</td>\n",
       "      <td>83172326</td>\n",
       "      <td>42-86-38</td>\n",
       "      <td>Barclays Bank</td>\n",
       "    </tr>\n",
       "    <tr>\n",
       "      <th>2</th>\n",
       "      <td>5404</td>\n",
       "      <td>34302539</td>\n",
       "      <td>53-28-21</td>\n",
       "      <td>Barclays Bank</td>\n",
       "    </tr>\n",
       "    <tr>\n",
       "      <th>3</th>\n",
       "      <td>9013</td>\n",
       "      <td>13350031</td>\n",
       "      <td>93-87-71</td>\n",
       "      <td>Natwest</td>\n",
       "    </tr>\n",
       "    <tr>\n",
       "      <th>4</th>\n",
       "      <td>2535</td>\n",
       "      <td>68745993</td>\n",
       "      <td>57-14-32</td>\n",
       "      <td>Barclays Bank</td>\n",
       "    </tr>\n",
       "  </tbody>\n",
       "</table>\n",
       "</div>"
      ],
      "text/plain": [
       "   Transaction ID  Account Number Sort Code              Bank\n",
       "0            3888        62230725  95-98-82  Data Source Bank\n",
       "1            4746        83172326  42-86-38     Barclays Bank\n",
       "2            5404        34302539  53-28-21     Barclays Bank\n",
       "3            9013        13350031  93-87-71           Natwest\n",
       "4            2535        68745993  57-14-32     Barclays Bank"
      ]
     },
     "execution_count": 35,
     "metadata": {},
     "output_type": "execute_result"
    }
   ],
   "source": [
    "trans.head()"
   ]
  },
  {
   "cell_type": "markdown",
   "id": "36eea297",
   "metadata": {},
   "source": [
    "### 2) In the Transactions table, there is a Sort Code field which contains dashes. We need to remove these so just have a 6 digit string"
   ]
  },
  {
   "cell_type": "code",
   "execution_count": 36,
   "id": "b52e6462",
   "metadata": {},
   "outputs": [],
   "source": [
    "trans['Sort Code'] = trans['Sort Code'].str.replace('-', '')"
   ]
  },
  {
   "cell_type": "markdown",
   "id": "6cc2ddae",
   "metadata": {},
   "source": [
    "### 3) Use the SWIFT Bank Code lookup table to bring in additional information about the SWIFT code and Check Digits of the receiving bank account "
   ]
  },
  {
   "cell_type": "code",
   "execution_count": 37,
   "id": "94976039",
   "metadata": {},
   "outputs": [
    {
     "data": {
      "text/html": [
       "<div>\n",
       "<style scoped>\n",
       "    .dataframe tbody tr th:only-of-type {\n",
       "        vertical-align: middle;\n",
       "    }\n",
       "\n",
       "    .dataframe tbody tr th {\n",
       "        vertical-align: top;\n",
       "    }\n",
       "\n",
       "    .dataframe thead th {\n",
       "        text-align: right;\n",
       "    }\n",
       "</style>\n",
       "<table border=\"1\" class=\"dataframe\">\n",
       "  <thead>\n",
       "    <tr style=\"text-align: right;\">\n",
       "      <th></th>\n",
       "      <th>Bank</th>\n",
       "      <th>SWIFT code</th>\n",
       "      <th>Check Digits</th>\n",
       "      <th>Transaction ID</th>\n",
       "      <th>Account Number</th>\n",
       "      <th>Sort Code</th>\n",
       "    </tr>\n",
       "  </thead>\n",
       "  <tbody>\n",
       "    <tr>\n",
       "      <th>0</th>\n",
       "      <td>Lloyds Bank</td>\n",
       "      <td>LOYD</td>\n",
       "      <td>C1</td>\n",
       "      <td>4870</td>\n",
       "      <td>79724968</td>\n",
       "      <td>510741</td>\n",
       "    </tr>\n",
       "    <tr>\n",
       "      <th>1</th>\n",
       "      <td>Lloyds Bank</td>\n",
       "      <td>LOYD</td>\n",
       "      <td>C1</td>\n",
       "      <td>1126</td>\n",
       "      <td>69969270</td>\n",
       "      <td>458255</td>\n",
       "    </tr>\n",
       "    <tr>\n",
       "      <th>2</th>\n",
       "      <td>Lloyds Bank</td>\n",
       "      <td>LOYD</td>\n",
       "      <td>C1</td>\n",
       "      <td>8453</td>\n",
       "      <td>30335066</td>\n",
       "      <td>649458</td>\n",
       "    </tr>\n",
       "    <tr>\n",
       "      <th>3</th>\n",
       "      <td>Lloyds Bank</td>\n",
       "      <td>LOYD</td>\n",
       "      <td>C1</td>\n",
       "      <td>5955</td>\n",
       "      <td>71124764</td>\n",
       "      <td>978496</td>\n",
       "    </tr>\n",
       "    <tr>\n",
       "      <th>4</th>\n",
       "      <td>Lloyds Bank</td>\n",
       "      <td>LOYD</td>\n",
       "      <td>C1</td>\n",
       "      <td>8500</td>\n",
       "      <td>46967961</td>\n",
       "      <td>874938</td>\n",
       "    </tr>\n",
       "  </tbody>\n",
       "</table>\n",
       "</div>"
      ],
      "text/plain": [
       "          Bank SWIFT code Check Digits  Transaction ID  Account Number  \\\n",
       "0  Lloyds Bank       LOYD           C1            4870        79724968   \n",
       "1  Lloyds Bank       LOYD           C1            1126        69969270   \n",
       "2  Lloyds Bank       LOYD           C1            8453        30335066   \n",
       "3  Lloyds Bank       LOYD           C1            5955        71124764   \n",
       "4  Lloyds Bank       LOYD           C1            8500        46967961   \n",
       "\n",
       "  Sort Code  \n",
       "0    510741  \n",
       "1    458255  \n",
       "2    649458  \n",
       "3    978496  \n",
       "4    874938  "
      ]
     },
     "execution_count": 37,
     "metadata": {},
     "output_type": "execute_result"
    }
   ],
   "source": [
    "all_data = pd.merge(lookup,trans, on='Bank')\n",
    "all_data.head()"
   ]
  },
  {
   "cell_type": "code",
   "execution_count": 38,
   "id": "1c393971",
   "metadata": {},
   "outputs": [
    {
     "name": "stdout",
     "output_type": "stream",
     "text": [
      "<class 'pandas.core.frame.DataFrame'>\n",
      "Int64Index: 100 entries, 0 to 99\n",
      "Data columns (total 6 columns):\n",
      " #   Column          Non-Null Count  Dtype \n",
      "---  ------          --------------  ----- \n",
      " 0   Bank            100 non-null    object\n",
      " 1   SWIFT code      100 non-null    object\n",
      " 2   Check Digits    100 non-null    object\n",
      " 3   Transaction ID  100 non-null    int64 \n",
      " 4   Account Number  100 non-null    int64 \n",
      " 5   Sort Code       100 non-null    object\n",
      "dtypes: int64(2), object(4)\n",
      "memory usage: 5.5+ KB\n"
     ]
    }
   ],
   "source": [
    "# Inspecting full data set\n",
    "\n",
    "all_data.info()"
   ]
  },
  {
   "cell_type": "markdown",
   "id": "6dc0e107",
   "metadata": {},
   "source": [
    "### 4) Add a field for the Country Code (hint)\n",
    "     Hint: all these transactions take place in the UK so the Country Code should be GB"
   ]
  },
  {
   "cell_type": "code",
   "execution_count": 39,
   "id": "5626a455",
   "metadata": {},
   "outputs": [],
   "source": [
    "all_data['Country Code'] = 'GB'"
   ]
  },
  {
   "cell_type": "markdown",
   "id": "b6ed98ef",
   "metadata": {},
   "source": [
    "### 5) Create the IBAN as above (hint)\n",
    "    Hint: watch out for trying to combine sting fields with numeric fields - check data types"
   ]
  },
  {
   "cell_type": "code",
   "execution_count": 40,
   "id": "10c0814a",
   "metadata": {},
   "outputs": [
    {
     "data": {
      "text/plain": [
       "Bank              object\n",
       "SWIFT code        object\n",
       "Check Digits      object\n",
       "Transaction ID     int64\n",
       "Account Number     int64\n",
       "Sort Code         object\n",
       "Country Code      object\n",
       "dtype: object"
      ]
     },
     "execution_count": 40,
     "metadata": {},
     "output_type": "execute_result"
    }
   ],
   "source": [
    "# Checking data types (previously showed wint all_data.info())\n",
    "\n",
    "all_data.dtypes\n"
   ]
  },
  {
   "cell_type": "code",
   "execution_count": 43,
   "id": "b15f3ba7",
   "metadata": {},
   "outputs": [
    {
     "data": {
      "text/html": [
       "<div>\n",
       "<style scoped>\n",
       "    .dataframe tbody tr th:only-of-type {\n",
       "        vertical-align: middle;\n",
       "    }\n",
       "\n",
       "    .dataframe tbody tr th {\n",
       "        vertical-align: top;\n",
       "    }\n",
       "\n",
       "    .dataframe thead th {\n",
       "        text-align: right;\n",
       "    }\n",
       "</style>\n",
       "<table border=\"1\" class=\"dataframe\">\n",
       "  <thead>\n",
       "    <tr style=\"text-align: right;\">\n",
       "      <th></th>\n",
       "      <th>Bank</th>\n",
       "      <th>SWIFT code</th>\n",
       "      <th>Check Digits</th>\n",
       "      <th>Transaction ID</th>\n",
       "      <th>Account Number</th>\n",
       "      <th>Sort Code</th>\n",
       "      <th>Country Code</th>\n",
       "      <th>IBAN</th>\n",
       "    </tr>\n",
       "  </thead>\n",
       "  <tbody>\n",
       "    <tr>\n",
       "      <th>0</th>\n",
       "      <td>Lloyds Bank</td>\n",
       "      <td>LOYD</td>\n",
       "      <td>C1</td>\n",
       "      <td>4870</td>\n",
       "      <td>79724968</td>\n",
       "      <td>510741</td>\n",
       "      <td>GB</td>\n",
       "      <td>GBC1LOYD51074179724968</td>\n",
       "    </tr>\n",
       "    <tr>\n",
       "      <th>1</th>\n",
       "      <td>Lloyds Bank</td>\n",
       "      <td>LOYD</td>\n",
       "      <td>C1</td>\n",
       "      <td>1126</td>\n",
       "      <td>69969270</td>\n",
       "      <td>458255</td>\n",
       "      <td>GB</td>\n",
       "      <td>GBC1LOYD45825569969270</td>\n",
       "    </tr>\n",
       "    <tr>\n",
       "      <th>2</th>\n",
       "      <td>Lloyds Bank</td>\n",
       "      <td>LOYD</td>\n",
       "      <td>C1</td>\n",
       "      <td>8453</td>\n",
       "      <td>30335066</td>\n",
       "      <td>649458</td>\n",
       "      <td>GB</td>\n",
       "      <td>GBC1LOYD64945830335066</td>\n",
       "    </tr>\n",
       "    <tr>\n",
       "      <th>3</th>\n",
       "      <td>Lloyds Bank</td>\n",
       "      <td>LOYD</td>\n",
       "      <td>C1</td>\n",
       "      <td>5955</td>\n",
       "      <td>71124764</td>\n",
       "      <td>978496</td>\n",
       "      <td>GB</td>\n",
       "      <td>GBC1LOYD97849671124764</td>\n",
       "    </tr>\n",
       "    <tr>\n",
       "      <th>4</th>\n",
       "      <td>Lloyds Bank</td>\n",
       "      <td>LOYD</td>\n",
       "      <td>C1</td>\n",
       "      <td>8500</td>\n",
       "      <td>46967961</td>\n",
       "      <td>874938</td>\n",
       "      <td>GB</td>\n",
       "      <td>GBC1LOYD87493846967961</td>\n",
       "    </tr>\n",
       "  </tbody>\n",
       "</table>\n",
       "</div>"
      ],
      "text/plain": [
       "          Bank SWIFT code Check Digits  Transaction ID  Account Number  \\\n",
       "0  Lloyds Bank       LOYD           C1            4870        79724968   \n",
       "1  Lloyds Bank       LOYD           C1            1126        69969270   \n",
       "2  Lloyds Bank       LOYD           C1            8453        30335066   \n",
       "3  Lloyds Bank       LOYD           C1            5955        71124764   \n",
       "4  Lloyds Bank       LOYD           C1            8500        46967961   \n",
       "\n",
       "  Sort Code Country Code                    IBAN  \n",
       "0    510741           GB  GBC1LOYD51074179724968  \n",
       "1    458255           GB  GBC1LOYD45825569969270  \n",
       "2    649458           GB  GBC1LOYD64945830335066  \n",
       "3    978496           GB  GBC1LOYD97849671124764  \n",
       "4    874938           GB  GBC1LOYD87493846967961  "
      ]
     },
     "execution_count": 43,
     "metadata": {},
     "output_type": "execute_result"
    }
   ],
   "source": [
    "# One way is converting data to string to concatenate data later\n",
    "\n",
    "#all_data = all_data.astype(str)\n",
    "\n",
    "# But, another way is keep original data types, and convert to string only those column needed\n",
    "#IBAN\n",
    "\n",
    "# Country Code + Check digits + Swift code  + Sort Code + Account Number\n",
    "\n",
    "all_data['IBAN'] = all_data['Country Code'] + all_data['Check Digits'] + all_data['SWIFT code'] + all_data['Sort Code'] + all_data['Account Number'].astype(str)\n",
    "\n",
    "all_data.head()\n"
   ]
  },
  {
   "cell_type": "markdown",
   "id": "a828be9d",
   "metadata": {},
   "source": [
    "### 6) Remove unnecessary fields "
   ]
  },
  {
   "cell_type": "code",
   "execution_count": 55,
   "id": "752b352d",
   "metadata": {},
   "outputs": [],
   "source": [
    "output = all_data[['Transaction ID', 'IBAN']]\n"
   ]
  },
  {
   "cell_type": "code",
   "execution_count": 56,
   "id": "c68433e6",
   "metadata": {},
   "outputs": [
    {
     "data": {
      "text/html": [
       "<div>\n",
       "<style scoped>\n",
       "    .dataframe tbody tr th:only-of-type {\n",
       "        vertical-align: middle;\n",
       "    }\n",
       "\n",
       "    .dataframe tbody tr th {\n",
       "        vertical-align: top;\n",
       "    }\n",
       "\n",
       "    .dataframe thead th {\n",
       "        text-align: right;\n",
       "    }\n",
       "</style>\n",
       "<table border=\"1\" class=\"dataframe\">\n",
       "  <thead>\n",
       "    <tr style=\"text-align: right;\">\n",
       "      <th></th>\n",
       "      <th>Transaction ID</th>\n",
       "      <th>IBAN</th>\n",
       "    </tr>\n",
       "  </thead>\n",
       "  <tbody>\n",
       "    <tr>\n",
       "      <th>0</th>\n",
       "      <td>4870</td>\n",
       "      <td>GBC1LOYD51074179724968</td>\n",
       "    </tr>\n",
       "    <tr>\n",
       "      <th>1</th>\n",
       "      <td>1126</td>\n",
       "      <td>GBC1LOYD45825569969270</td>\n",
       "    </tr>\n",
       "    <tr>\n",
       "      <th>2</th>\n",
       "      <td>8453</td>\n",
       "      <td>GBC1LOYD64945830335066</td>\n",
       "    </tr>\n",
       "    <tr>\n",
       "      <th>3</th>\n",
       "      <td>5955</td>\n",
       "      <td>GBC1LOYD97849671124764</td>\n",
       "    </tr>\n",
       "    <tr>\n",
       "      <th>4</th>\n",
       "      <td>8500</td>\n",
       "      <td>GBC1LOYD87493846967961</td>\n",
       "    </tr>\n",
       "    <tr>\n",
       "      <th>...</th>\n",
       "      <td>...</td>\n",
       "      <td>...</td>\n",
       "    </tr>\n",
       "    <tr>\n",
       "      <th>95</th>\n",
       "      <td>4063</td>\n",
       "      <td>GB12DSBX28178620220923</td>\n",
       "    </tr>\n",
       "    <tr>\n",
       "      <th>96</th>\n",
       "      <td>3770</td>\n",
       "      <td>GB12DSBX32549026013637</td>\n",
       "    </tr>\n",
       "    <tr>\n",
       "      <th>97</th>\n",
       "      <td>2760</td>\n",
       "      <td>GB12DSBX28066085744933</td>\n",
       "    </tr>\n",
       "    <tr>\n",
       "      <th>98</th>\n",
       "      <td>9530</td>\n",
       "      <td>GB12DSBX70700574379515</td>\n",
       "    </tr>\n",
       "    <tr>\n",
       "      <th>99</th>\n",
       "      <td>6764</td>\n",
       "      <td>GB12DSBX29723910570182</td>\n",
       "    </tr>\n",
       "  </tbody>\n",
       "</table>\n",
       "<p>100 rows × 2 columns</p>\n",
       "</div>"
      ],
      "text/plain": [
       "    Transaction ID                    IBAN\n",
       "0             4870  GBC1LOYD51074179724968\n",
       "1             1126  GBC1LOYD45825569969270\n",
       "2             8453  GBC1LOYD64945830335066\n",
       "3             5955  GBC1LOYD97849671124764\n",
       "4             8500  GBC1LOYD87493846967961\n",
       "..             ...                     ...\n",
       "95            4063  GB12DSBX28178620220923\n",
       "96            3770  GB12DSBX32549026013637\n",
       "97            2760  GB12DSBX28066085744933\n",
       "98            9530  GB12DSBX70700574379515\n",
       "99            6764  GB12DSBX29723910570182\n",
       "\n",
       "[100 rows x 2 columns]"
      ]
     },
     "execution_count": 56,
     "metadata": {},
     "output_type": "execute_result"
    }
   ],
   "source": [
    "output"
   ]
  }
 ],
 "metadata": {
  "kernelspec": {
   "display_name": "Python 3 (ipykernel)",
   "language": "python",
   "name": "python3"
  },
  "language_info": {
   "codemirror_mode": {
    "name": "ipython",
    "version": 3
   },
   "file_extension": ".py",
   "mimetype": "text/x-python",
   "name": "python",
   "nbconvert_exporter": "python",
   "pygments_lexer": "ipython3",
   "version": "3.10.2"
  }
 },
 "nbformat": 4,
 "nbformat_minor": 5
}
